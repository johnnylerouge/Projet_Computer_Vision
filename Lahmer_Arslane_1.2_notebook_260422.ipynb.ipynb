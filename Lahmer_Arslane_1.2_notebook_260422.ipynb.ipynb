{
 "cells": [
  {
   "cell_type": "markdown",
   "metadata": {
    "execution": {
     "iopub.execute_input": "2022-06-03T11:09:24.362179Z",
     "iopub.status.busy": "2022-06-03T11:09:24.361884Z",
     "iopub.status.idle": "2022-06-03T11:09:30.133488Z",
     "shell.execute_reply": "2022-06-03T11:09:30.132716Z",
     "shell.execute_reply.started": "2022-06-03T11:09:24.362152Z"
    }
   },
   "source": [
    "# Projet 6 Machine Learning (suite)"
   ]
  },
  {
   "cell_type": "markdown",
   "metadata": {},
   "source": [
    "## Transfer learning\n",
    "\n",
    "Le transfer learning consiste à utiliser un réseau de neurones préalablement entraîné sur des millions d’images de toute sorte. Le principal intérêt de ce procédé est le pouvoir de généralisation car les features apprises peuvent s’avérer utiles pour bon nombre de classifications.\n",
    "\n",
    "Les réseaux VGG16 et effnet seront testés."
   ]
  },
  {
   "cell_type": "code",
   "execution_count": 16,
   "metadata": {
    "execution": {
     "iopub.execute_input": "2022-06-03T11:11:08.923753Z",
     "iopub.status.busy": "2022-06-03T11:11:08.922961Z",
     "iopub.status.idle": "2022-06-03T11:11:09.671964Z",
     "shell.execute_reply": "2022-06-03T11:11:09.670134Z",
     "shell.execute_reply.started": "2022-06-03T11:11:08.923710Z"
    }
   },
   "outputs": [
    {
     "name": "stdout",
     "output_type": "stream",
     "text": [
      "Downloading data from https://storage.googleapis.com/tensorflow/keras-applications/vgg16/vgg16_weights_tf_dim_ordering_tf_kernels_notop.h5\n",
      "58892288/58889256 [==============================] - 0s 0us/step\n",
      "58900480/58889256 [==============================] - 0s 0us/step\n"
     ]
    }
   ],
   "source": [
    "# Import du réseau VGG16\n",
    "\n",
    "pretrained_model = keras.applications.vgg16.VGG16(weights=\"imagenet\", include_top=False)"
   ]
  },
  {
   "cell_type": "code",
   "execution_count": 17,
   "metadata": {
    "execution": {
     "iopub.execute_input": "2022-06-03T11:11:19.101300Z",
     "iopub.status.busy": "2022-06-03T11:11:19.100461Z",
     "iopub.status.idle": "2022-06-03T11:11:19.105384Z",
     "shell.execute_reply": "2022-06-03T11:11:19.104528Z",
     "shell.execute_reply.started": "2022-06-03T11:11:19.101261Z"
    }
   },
   "outputs": [],
   "source": [
    "# Gel de tous les layers du réseau\n",
    "\n",
    "pretrained_model.trainable = False"
   ]
  },
  {
   "cell_type": "code",
   "execution_count": 18,
   "metadata": {
    "execution": {
     "iopub.execute_input": "2022-06-03T11:14:41.195079Z",
     "iopub.status.busy": "2022-06-03T11:14:41.194541Z",
     "iopub.status.idle": "2022-06-03T11:14:42.196352Z",
     "shell.execute_reply": "2022-06-03T11:14:42.194404Z",
     "shell.execute_reply.started": "2022-06-03T11:14:41.195046Z"
    }
   },
   "outputs": [
    {
     "name": "stderr",
     "output_type": "stream",
     "text": [
      "/opt/conda/lib/python3.7/site-packages/ipykernel_launcher.py:1: DeprecationWarning: `import kerastuner` is deprecated, please use `import keras_tuner`.\n",
      "  \"\"\"Entry point for launching an IPython kernel.\n"
     ]
    }
   ],
   "source": [
    "# On ajoute au modèle pré entraîné des layers dont un layer de classification pour l'adapter à notre problème\n",
    "\n",
    "def build_vgg16_model(hp):\n",
    "    inputs = keras.Input(shape=(180, 180,3))\n",
    "    x = keras.applications.vgg16.preprocess_input(inputs)\n",
    "    x = pretrained_model(x)\n",
    "    x = layers.Flatten()(x)\n",
    "    unit = hp.Int(name=\"unit\", min_value=64, max_value=512, step=64)\n",
    "    x = layers.Dense(unit)(x)\n",
    "    rate = hp.Choice('rate', values=[0.5, 0.6, 0.7])\n",
    "    x = layers.Dropout(rate)(x)\n",
    "    outputs = layers.Dense(6, activation=\"softmax\")(x)\n",
    "    model = keras.Model(inputs=inputs, outputs=outputs)    \n",
    "    hp_learning_rate = hp.Choice('learning_rate', values=[0.0001, 0.00001, 0.00005], ordered=False)\n",
    "    model.compile(optimizer=keras.optimizers.Adam(learning_rate=hp_learning_rate),\n",
    "                loss=keras.losses.SparseCategoricalCrossentropy(from_logits=True),\n",
    "                metrics=['accuracy'])\n",
    "    return model\n"
   ]
  },
  {
   "cell_type": "code",
   "execution_count": 19,
   "metadata": {
    "execution": {
     "iopub.execute_input": "2022-06-03T11:15:01.989376Z",
     "iopub.status.busy": "2022-06-03T11:15:01.988548Z",
     "iopub.status.idle": "2022-06-03T11:15:02.080481Z",
     "shell.execute_reply": "2022-06-03T11:15:02.079721Z",
     "shell.execute_reply.started": "2022-06-03T11:15:01.989333Z"
    }
   },
   "outputs": [],
   "source": [
    "import kerastuner as kt\n",
    "tuner = kt.BayesianOptimization(\n",
    "build_vgg16_model,\n",
    "objective=\"val_accuracy\",\n",
    "max_trials=20,executions_per_trial=2,\n",
    "directory=\"dogs_classifications\",\n",
    "overwrite=True)"
   ]
  },
  {
   "cell_type": "code",
   "execution_count": 20,
   "metadata": {
    "execution": {
     "iopub.execute_input": "2022-06-03T11:15:10.372477Z",
     "iopub.status.busy": "2022-06-03T11:15:10.371634Z",
     "iopub.status.idle": "2022-06-03T11:15:10.377589Z",
     "shell.execute_reply": "2022-06-03T11:15:10.376622Z",
     "shell.execute_reply.started": "2022-06-03T11:15:10.372442Z"
    }
   },
   "outputs": [
    {
     "name": "stdout",
     "output_type": "stream",
     "text": [
      "Search space summary\n",
      "Default search space size: 3\n",
      "unit (Int)\n",
      "{'default': None, 'conditions': [], 'min_value': 64, 'max_value': 512, 'step': 64, 'sampling': None}\n",
      "rate (Choice)\n",
      "{'default': 0.5, 'conditions': [], 'values': [0.5, 0.6, 0.7], 'ordered': True}\n",
      "learning_rate (Choice)\n",
      "{'default': 0.0001, 'conditions': [], 'values': [0.0001, 1e-05, 5e-05], 'ordered': False}\n"
     ]
    }
   ],
   "source": [
    "tuner.search_space_summary()"
   ]
  },
  {
   "cell_type": "code",
   "execution_count": 21,
   "metadata": {
    "execution": {
     "iopub.execute_input": "2022-06-03T11:15:18.780051Z",
     "iopub.status.busy": "2022-06-03T11:15:18.779270Z",
     "iopub.status.idle": "2022-06-03T11:15:18.785968Z",
     "shell.execute_reply": "2022-06-03T11:15:18.783214Z",
     "shell.execute_reply.started": "2022-06-03T11:15:18.780015Z"
    }
   },
   "outputs": [],
   "source": [
    "callbacks = [keras.callbacks.EarlyStopping(monitor=\"val_loss\", patience=5)]\n"
   ]
  },
  {
   "cell_type": "code",
   "execution_count": 22,
   "metadata": {
    "execution": {
     "iopub.execute_input": "2022-06-03T11:15:27.521411Z",
     "iopub.status.busy": "2022-06-03T11:15:27.520588Z",
     "iopub.status.idle": "2022-06-03T11:36:36.554251Z",
     "shell.execute_reply": "2022-06-03T11:36:36.553269Z",
     "shell.execute_reply.started": "2022-06-03T11:15:27.521368Z"
    }
   },
   "outputs": [
    {
     "name": "stdout",
     "output_type": "stream",
     "text": [
      "Trial 20 Complete [00h 00m 47s]\n",
      "val_accuracy: 0.9285714328289032\n",
      "\n",
      "Best val_accuracy So Far: 0.9489796161651611\n",
      "Total elapsed time: 00h 21m 09s\n"
     ]
    }
   ],
   "source": [
    "tuner.search(train_dataset, batch_size=32, epochs=30, validation_data = val_dataset,\n",
    "             callbacks=callbacks, verbose = 2)"
   ]
  },
  {
   "cell_type": "markdown",
   "metadata": {},
   "source": [
    "On voit que notre modèle a une efficacité de 0.95. Comparé à celle de nos modèles classiques qui frolent les 0.40, cela représente un gain considérable."
   ]
  },
  {
   "cell_type": "code",
   "execution_count": 32,
   "metadata": {
    "execution": {
     "iopub.execute_input": "2022-06-03T11:41:30.540602Z",
     "iopub.status.busy": "2022-06-03T11:41:30.540233Z",
     "iopub.status.idle": "2022-06-03T11:41:30.544576Z",
     "shell.execute_reply": "2022-06-03T11:41:30.543866Z",
     "shell.execute_reply.started": "2022-06-03T11:41:30.540571Z"
    }
   },
   "outputs": [],
   "source": [
    "best_hps= tuner.get_best_hyperparameters()[0]"
   ]
  },
  {
   "cell_type": "code",
   "execution_count": 34,
   "metadata": {
    "execution": {
     "iopub.execute_input": "2022-06-03T11:41:40.451166Z",
     "iopub.status.busy": "2022-06-03T11:41:40.450229Z",
     "iopub.status.idle": "2022-06-03T11:41:40.457441Z",
     "shell.execute_reply": "2022-06-03T11:41:40.456592Z",
     "shell.execute_reply.started": "2022-06-03T11:41:40.451123Z"
    }
   },
   "outputs": [
    {
     "data": {
      "text/plain": [
       "{'unit': 512, 'rate': 0.7, 'learning_rate': 5e-05}"
      ]
     },
     "execution_count": 34,
     "metadata": {},
     "output_type": "execute_result"
    }
   ],
   "source": [
    "best_hps.values"
   ]
  },
  {
   "cell_type": "code",
   "execution_count": 38,
   "metadata": {
    "execution": {
     "iopub.execute_input": "2022-06-03T11:42:39.321183Z",
     "iopub.status.busy": "2022-06-03T11:42:39.320820Z",
     "iopub.status.idle": "2022-06-03T11:42:39.327191Z",
     "shell.execute_reply": "2022-06-03T11:42:39.326164Z",
     "shell.execute_reply.started": "2022-06-03T11:42:39.321153Z"
    }
   },
   "outputs": [],
   "source": [
    "def get_best_epoch(hp):\n",
    "    model = build_vgg16_model(hp)\n",
    "    callbacks=[\n",
    "    keras.callbacks.EarlyStopping(\n",
    "    monitor=\"val_loss\", mode=\"min\", patience=10)]\n",
    "    \n",
    "    history = model.fit(train_dataset, batch_size=32, epochs=30, validation_data = val_dataset,\n",
    "             callbacks=callbacks, verbose = 2)\n",
    "    val_loss_per_epoch = history.history[\"val_loss\"]\n",
    "    best_epoch = val_loss_per_epoch.index(min(val_loss_per_epoch)) + 1\n",
    "    print(f\"Best epoch: {best_epoch}\")\n",
    "    return best_epoch"
   ]
  },
  {
   "cell_type": "code",
   "execution_count": 39,
   "metadata": {
    "collapsed": true,
    "execution": {
     "iopub.execute_input": "2022-06-03T11:42:39.881655Z",
     "iopub.status.busy": "2022-06-03T11:42:39.881271Z",
     "iopub.status.idle": "2022-06-03T11:43:44.208199Z",
     "shell.execute_reply": "2022-06-03T11:43:44.207352Z",
     "shell.execute_reply.started": "2022-06-03T11:42:39.881622Z"
    },
    "jupyter": {
     "outputs_hidden": true
    }
   },
   "outputs": [
    {
     "name": "stdout",
     "output_type": "stream",
     "text": [
      "Epoch 1/30\n"
     ]
    },
    {
     "name": "stderr",
     "output_type": "stream",
     "text": [
      "/opt/conda/lib/python3.7/site-packages/keras/backend.py:4907: UserWarning: \"`sparse_categorical_crossentropy` received `from_logits=True`, but the `output` argument was produced by a sigmoid or softmax activation and thus does not represent logits. Was this intended?\"\n",
      "  '\"`sparse_categorical_crossentropy` received `from_logits=True`, but '\n"
     ]
    },
    {
     "name": "stdout",
     "output_type": "stream",
     "text": [
      "26/26 - 2s - loss: 46.7017 - accuracy: 0.3772 - val_loss: 9.0515 - val_accuracy: 0.7653\n",
      "Epoch 2/30\n",
      "26/26 - 2s - loss: 13.5249 - accuracy: 0.7370 - val_loss: 6.7480 - val_accuracy: 0.8061\n",
      "Epoch 3/30\n",
      "26/26 - 2s - loss: 6.5816 - accuracy: 0.8400 - val_loss: 4.3183 - val_accuracy: 0.8878\n",
      "Epoch 4/30\n",
      "26/26 - 2s - loss: 5.7403 - accuracy: 0.8561 - val_loss: 4.0192 - val_accuracy: 0.8673\n",
      "Epoch 5/30\n",
      "26/26 - 2s - loss: 4.2490 - accuracy: 0.8846 - val_loss: 3.5973 - val_accuracy: 0.8776\n",
      "Epoch 6/30\n",
      "26/26 - 2s - loss: 3.3001 - accuracy: 0.9206 - val_loss: 3.9930 - val_accuracy: 0.8980\n",
      "Epoch 7/30\n",
      "26/26 - 2s - loss: 2.7202 - accuracy: 0.9206 - val_loss: 3.7741 - val_accuracy: 0.8878\n",
      "Epoch 8/30\n",
      "26/26 - 2s - loss: 2.3381 - accuracy: 0.9355 - val_loss: 3.7312 - val_accuracy: 0.8878\n",
      "Epoch 9/30\n",
      "26/26 - 2s - loss: 1.6569 - accuracy: 0.9541 - val_loss: 4.2846 - val_accuracy: 0.8980\n",
      "Epoch 10/30\n",
      "26/26 - 2s - loss: 1.3103 - accuracy: 0.9541 - val_loss: 3.6373 - val_accuracy: 0.9082\n",
      "Epoch 11/30\n",
      "26/26 - 2s - loss: 1.2951 - accuracy: 0.9653 - val_loss: 3.0768 - val_accuracy: 0.8980\n",
      "Epoch 12/30\n",
      "26/26 - 2s - loss: 0.8005 - accuracy: 0.9715 - val_loss: 3.0521 - val_accuracy: 0.8980\n",
      "Epoch 13/30\n",
      "26/26 - 2s - loss: 1.1350 - accuracy: 0.9615 - val_loss: 3.8075 - val_accuracy: 0.8980\n",
      "Epoch 14/30\n",
      "26/26 - 2s - loss: 0.5115 - accuracy: 0.9764 - val_loss: 3.6734 - val_accuracy: 0.8878\n",
      "Epoch 15/30\n",
      "26/26 - 2s - loss: 0.4913 - accuracy: 0.9764 - val_loss: 3.5162 - val_accuracy: 0.9082\n",
      "Epoch 16/30\n",
      "26/26 - 2s - loss: 0.4259 - accuracy: 0.9764 - val_loss: 3.4995 - val_accuracy: 0.8980\n",
      "Epoch 17/30\n",
      "26/26 - 2s - loss: 0.4602 - accuracy: 0.9851 - val_loss: 3.9351 - val_accuracy: 0.9184\n",
      "Epoch 18/30\n",
      "26/26 - 2s - loss: 0.3971 - accuracy: 0.9789 - val_loss: 3.5573 - val_accuracy: 0.8980\n",
      "Epoch 19/30\n",
      "26/26 - 2s - loss: 0.7037 - accuracy: 0.9690 - val_loss: 2.9660 - val_accuracy: 0.9184\n",
      "Epoch 20/30\n",
      "26/26 - 2s - loss: 0.4216 - accuracy: 0.9888 - val_loss: 2.5081 - val_accuracy: 0.9082\n",
      "Epoch 21/30\n",
      "26/26 - 2s - loss: 0.5943 - accuracy: 0.9752 - val_loss: 3.2735 - val_accuracy: 0.8980\n",
      "Epoch 22/30\n",
      "26/26 - 2s - loss: 0.3660 - accuracy: 0.9876 - val_loss: 4.5153 - val_accuracy: 0.9184\n",
      "Epoch 23/30\n",
      "26/26 - 2s - loss: 0.3944 - accuracy: 0.9839 - val_loss: 5.4775 - val_accuracy: 0.8776\n",
      "Epoch 24/30\n",
      "26/26 - 2s - loss: 0.3861 - accuracy: 0.9876 - val_loss: 4.1857 - val_accuracy: 0.8980\n",
      "Epoch 25/30\n",
      "26/26 - 2s - loss: 0.3757 - accuracy: 0.9876 - val_loss: 3.3071 - val_accuracy: 0.9082\n",
      "Epoch 26/30\n",
      "26/26 - 2s - loss: 0.2110 - accuracy: 0.9913 - val_loss: 3.7528 - val_accuracy: 0.8878\n",
      "Epoch 27/30\n",
      "26/26 - 2s - loss: 0.3119 - accuracy: 0.9876 - val_loss: 4.6814 - val_accuracy: 0.9082\n",
      "Epoch 28/30\n",
      "26/26 - 2s - loss: 0.3634 - accuracy: 0.9888 - val_loss: 4.4266 - val_accuracy: 0.9286\n",
      "Epoch 29/30\n",
      "26/26 - 2s - loss: 0.1104 - accuracy: 0.9913 - val_loss: 4.8218 - val_accuracy: 0.8980\n",
      "Epoch 30/30\n",
      "26/26 - 2s - loss: 0.2294 - accuracy: 0.9888 - val_loss: 5.1538 - val_accuracy: 0.9082\n",
      "Best epoch: 20\n"
     ]
    }
   ],
   "source": [
    "best_model = get_best_epoch(best_hps)"
   ]
  },
  {
   "cell_type": "code",
   "execution_count": 40,
   "metadata": {
    "execution": {
     "iopub.execute_input": "2022-06-03T11:44:58.137782Z",
     "iopub.status.busy": "2022-06-03T11:44:58.137395Z",
     "iopub.status.idle": "2022-06-03T11:45:05.150382Z",
     "shell.execute_reply": "2022-06-03T11:45:05.149418Z",
     "shell.execute_reply.started": "2022-06-03T11:44:58.137751Z"
    }
   },
   "outputs": [
    {
     "name": "stdout",
     "output_type": "stream",
     "text": [
      "Downloading data from https://storage.googleapis.com/keras-applications/efficientnetb7_notop.h5\n",
      "258080768/258076736 [==============================] - 2s 0us/step\n",
      "258088960/258076736 [==============================] - 2s 0us/step\n"
     ]
    }
   ],
   "source": [
    "# Import du réseau VGG16\n",
    "\n",
    "effnet_model = tf.keras.applications.EfficientNetB7(include_top=False,weights=\"imagenet\")"
   ]
  },
  {
   "cell_type": "code",
   "execution_count": 41,
   "metadata": {
    "execution": {
     "iopub.execute_input": "2022-06-03T11:45:05.152312Z",
     "iopub.status.busy": "2022-06-03T11:45:05.151972Z",
     "iopub.status.idle": "2022-06-03T11:45:05.181163Z",
     "shell.execute_reply": "2022-06-03T11:45:05.179764Z",
     "shell.execute_reply.started": "2022-06-03T11:45:05.152279Z"
    }
   },
   "outputs": [],
   "source": [
    "# Gel de tous les layers\n",
    "\n",
    "effnet_model.trainable = False"
   ]
  },
  {
   "cell_type": "code",
   "execution_count": 45,
   "metadata": {
    "execution": {
     "iopub.execute_input": "2022-06-03T11:46:07.177219Z",
     "iopub.status.busy": "2022-06-03T11:46:07.176560Z",
     "iopub.status.idle": "2022-06-03T11:46:07.184888Z",
     "shell.execute_reply": "2022-06-03T11:46:07.184151Z",
     "shell.execute_reply.started": "2022-06-03T11:46:07.177181Z"
    }
   },
   "outputs": [],
   "source": [
    "# Même chose que pour le modèle VGG16\n",
    "\n",
    "def build_effnet_model(hp):\n",
    "    inputs = keras.Input(shape=(180, 180,3))\n",
    "    x = effnet_model(inputs)\n",
    "    x = layers.Flatten()(x)\n",
    "    unit = hp.Int(name=\"unit\", min_value=64, max_value=512, step=64)\n",
    "    x = layers.Dense(unit)(x)\n",
    "    rate = hp.Choice('rate', values=[0.5, 0.6, 0.7])\n",
    "    x = layers.Dropout(rate)(x)\n",
    "    outputs = layers.Dense(6, activation=\"softmax\")(x)\n",
    "    model = keras.Model(inputs=inputs, outputs=outputs)    \n",
    "    hp_learning_rate = hp.Choice('learning_rate', values=[0.0001, 0.00001, 0.00005], ordered=False)\n",
    "    model.compile(optimizer=keras.optimizers.Adam(learning_rate=hp_learning_rate),\n",
    "                loss=keras.losses.SparseCategoricalCrossentropy(from_logits=True),\n",
    "                metrics=['accuracy'])\n",
    "    return model"
   ]
  },
  {
   "cell_type": "code",
   "execution_count": 47,
   "metadata": {
    "execution": {
     "iopub.execute_input": "2022-06-03T11:46:22.919375Z",
     "iopub.status.busy": "2022-06-03T11:46:22.918622Z",
     "iopub.status.idle": "2022-06-03T11:46:24.971964Z",
     "shell.execute_reply": "2022-06-03T11:46:24.971199Z",
     "shell.execute_reply.started": "2022-06-03T11:46:22.919335Z"
    }
   },
   "outputs": [],
   "source": [
    "import kerastuner as kt\n",
    "tuner = kt.BayesianOptimization(\n",
    "build_effnet_model,\n",
    "objective=\"val_accuracy\",\n",
    "max_trials=20,executions_per_trial=2,\n",
    "directory=\"dogs_classifications\",\n",
    "overwrite=True)"
   ]
  },
  {
   "cell_type": "code",
   "execution_count": 48,
   "metadata": {
    "execution": {
     "iopub.execute_input": "2022-06-03T11:46:49.754625Z",
     "iopub.status.busy": "2022-06-03T11:46:49.754251Z",
     "iopub.status.idle": "2022-06-03T11:46:49.760843Z",
     "shell.execute_reply": "2022-06-03T11:46:49.759997Z",
     "shell.execute_reply.started": "2022-06-03T11:46:49.754594Z"
    }
   },
   "outputs": [
    {
     "name": "stdout",
     "output_type": "stream",
     "text": [
      "Search space summary\n",
      "Default search space size: 3\n",
      "unit (Int)\n",
      "{'default': None, 'conditions': [], 'min_value': 64, 'max_value': 512, 'step': 64, 'sampling': None}\n",
      "rate (Choice)\n",
      "{'default': 0.5, 'conditions': [], 'values': [0.5, 0.6, 0.7], 'ordered': True}\n",
      "learning_rate (Choice)\n",
      "{'default': 0.0001, 'conditions': [], 'values': [0.0001, 1e-05, 5e-05], 'ordered': False}\n"
     ]
    }
   ],
   "source": [
    "tuner.search_space_summary()"
   ]
  },
  {
   "cell_type": "code",
   "execution_count": 49,
   "metadata": {
    "execution": {
     "iopub.execute_input": "2022-06-03T11:47:01.340793Z",
     "iopub.status.busy": "2022-06-03T11:47:01.340420Z",
     "iopub.status.idle": "2022-06-03T11:47:01.344927Z",
     "shell.execute_reply": "2022-06-03T11:47:01.344140Z",
     "shell.execute_reply.started": "2022-06-03T11:47:01.340761Z"
    }
   },
   "outputs": [],
   "source": [
    "callbacks = [keras.callbacks.EarlyStopping(monitor=\"val_loss\", patience=5)]\n"
   ]
  },
  {
   "cell_type": "code",
   "execution_count": 50,
   "metadata": {
    "execution": {
     "iopub.execute_input": "2022-06-03T11:47:12.617761Z",
     "iopub.status.busy": "2022-06-03T11:47:12.617371Z",
     "iopub.status.idle": "2022-06-03T12:39:30.094766Z",
     "shell.execute_reply": "2022-06-03T12:39:30.093092Z",
     "shell.execute_reply.started": "2022-06-03T11:47:12.617727Z"
    },
    "jupyter": {
     "outputs_hidden": true
    }
   },
   "outputs": [
    {
     "name": "stdout",
     "output_type": "stream",
     "text": [
      "Trial 20 Complete [00h 02m 06s]\n",
      "val_accuracy: 0.954081654548645\n",
      "\n",
      "Best val_accuracy So Far: 0.9744898080825806\n",
      "Total elapsed time: 00h 52m 17s\n"
     ]
    }
   ],
   "source": [
    "tuner.search(train_dataset, batch_size=32, epochs=30, validation_data = val_dataset,\n",
    "             callbacks=callbacks, verbose = 2)"
   ]
  },
  {
   "cell_type": "markdown",
   "metadata": {},
   "source": [
    "Le modèle avec les hyperparamètres optimisés a une accuracy max de 0.97, ce qui est encore meilleur reposant sur VGG16. Il sera choisi comme modèle pour la généralisation à toutes les races."
   ]
  },
  {
   "cell_type": "code",
   "execution_count": 52,
   "metadata": {
    "execution": {
     "iopub.execute_input": "2022-06-03T12:39:42.281913Z",
     "iopub.status.busy": "2022-06-03T12:39:42.281219Z",
     "iopub.status.idle": "2022-06-03T12:39:42.287644Z",
     "shell.execute_reply": "2022-06-03T12:39:42.286558Z",
     "shell.execute_reply.started": "2022-06-03T12:39:42.281867Z"
    }
   },
   "outputs": [],
   "source": [
    "best_hps= tuner.get_best_hyperparameters()[0]"
   ]
  },
  {
   "cell_type": "code",
   "execution_count": 53,
   "metadata": {
    "execution": {
     "iopub.execute_input": "2022-06-03T12:39:44.076475Z",
     "iopub.status.busy": "2022-06-03T12:39:44.075599Z",
     "iopub.status.idle": "2022-06-03T12:39:44.082372Z",
     "shell.execute_reply": "2022-06-03T12:39:44.081629Z",
     "shell.execute_reply.started": "2022-06-03T12:39:44.076346Z"
    }
   },
   "outputs": [
    {
     "data": {
      "text/plain": [
       "{'unit': 384, 'rate': 0.5, 'learning_rate': 0.0001}"
      ]
     },
     "execution_count": 53,
     "metadata": {},
     "output_type": "execute_result"
    }
   ],
   "source": [
    "best_hps.values"
   ]
  },
  {
   "cell_type": "code",
   "execution_count": 55,
   "metadata": {
    "execution": {
     "iopub.execute_input": "2022-06-03T12:40:07.824602Z",
     "iopub.status.busy": "2022-06-03T12:40:07.823980Z",
     "iopub.status.idle": "2022-06-03T12:40:09.695154Z",
     "shell.execute_reply": "2022-06-03T12:40:09.693361Z",
     "shell.execute_reply.started": "2022-06-03T12:40:07.824566Z"
    }
   },
   "outputs": [],
   "source": [
    "model = build_effnet_model(best_hps)"
   ]
  },
  {
   "cell_type": "code",
   "execution_count": 56,
   "metadata": {
    "execution": {
     "iopub.execute_input": "2022-06-03T12:40:25.767867Z",
     "iopub.status.busy": "2022-06-03T12:40:25.767475Z",
     "iopub.status.idle": "2022-06-03T12:40:25.774608Z",
     "shell.execute_reply": "2022-06-03T12:40:25.773571Z",
     "shell.execute_reply.started": "2022-06-03T12:40:25.767835Z"
    }
   },
   "outputs": [],
   "source": [
    "def get_best_epoch(hp):\n",
    "    model = build_effnet_model(hp)\n",
    "    callbacks=[\n",
    "    keras.callbacks.EarlyStopping(\n",
    "    monitor=\"val_loss\", mode=\"min\", patience=10)]\n",
    "    \n",
    "    history = model.fit(train_dataset, batch_size=32, epochs=30, validation_data = val_dataset,\n",
    "             callbacks=callbacks, verbose = 2)\n",
    "    val_loss_per_epoch = history.history[\"val_loss\"]\n",
    "    best_epoch = val_loss_per_epoch.index(min(val_loss_per_epoch)) + 1\n",
    "    print(f\"Best epoch: {best_epoch}\")\n",
    "    return best_epoch"
   ]
  },
  {
   "cell_type": "code",
   "execution_count": 57,
   "metadata": {
    "execution": {
     "iopub.execute_input": "2022-06-03T12:40:27.151452Z",
     "iopub.status.busy": "2022-06-03T12:40:27.150475Z",
     "iopub.status.idle": "2022-06-03T12:42:00.855603Z",
     "shell.execute_reply": "2022-06-03T12:42:00.854760Z",
     "shell.execute_reply.started": "2022-06-03T12:40:27.151405Z"
    }
   },
   "outputs": [
    {
     "name": "stdout",
     "output_type": "stream",
     "text": [
      "Epoch 1/30\n",
      "26/26 - 28s - loss: 0.8696 - accuracy: 0.8325 - val_loss: 0.2940 - val_accuracy: 0.9592\n",
      "Epoch 2/30\n",
      "26/26 - 5s - loss: 0.2227 - accuracy: 0.9615 - val_loss: 0.3397 - val_accuracy: 0.9592\n",
      "Epoch 3/30\n",
      "26/26 - 5s - loss: 0.1801 - accuracy: 0.9628 - val_loss: 0.4631 - val_accuracy: 0.9490\n",
      "Epoch 4/30\n",
      "26/26 - 5s - loss: 0.0829 - accuracy: 0.9814 - val_loss: 0.4754 - val_accuracy: 0.9490\n",
      "Epoch 5/30\n",
      "26/26 - 5s - loss: 0.0575 - accuracy: 0.9901 - val_loss: 0.4067 - val_accuracy: 0.9592\n",
      "Epoch 6/30\n",
      "26/26 - 5s - loss: 0.0822 - accuracy: 0.9851 - val_loss: 0.5246 - val_accuracy: 0.9592\n",
      "Epoch 7/30\n",
      "26/26 - 5s - loss: 0.0927 - accuracy: 0.9839 - val_loss: 0.6692 - val_accuracy: 0.9592\n",
      "Epoch 8/30\n",
      "26/26 - 5s - loss: 0.0745 - accuracy: 0.9888 - val_loss: 0.5096 - val_accuracy: 0.9490\n",
      "Epoch 9/30\n",
      "26/26 - 5s - loss: 0.1398 - accuracy: 0.9814 - val_loss: 0.6467 - val_accuracy: 0.9592\n",
      "Epoch 10/30\n",
      "26/26 - 5s - loss: 0.0888 - accuracy: 0.9864 - val_loss: 0.7415 - val_accuracy: 0.9490\n",
      "Epoch 11/30\n",
      "26/26 - 5s - loss: 0.1198 - accuracy: 0.9826 - val_loss: 0.7750 - val_accuracy: 0.9490\n",
      "Best epoch: 1\n"
     ]
    }
   ],
   "source": [
    "best_model = get_best_epoch(best_hps)"
   ]
  },
  {
   "cell_type": "markdown",
   "metadata": {},
   "source": [
    "# Modèle final"
   ]
  },
  {
   "cell_type": "markdown",
   "metadata": {},
   "source": [
    "On entraîne le modèle retenu pour la généralisation sur toutes les races de chiens. Il est attendu que son accuracy va baisser assez nettement."
   ]
  },
  {
   "cell_type": "code",
   "execution_count": 74,
   "metadata": {
    "execution": {
     "iopub.execute_input": "2022-06-03T12:53:49.193335Z",
     "iopub.status.busy": "2022-06-03T12:53:49.192968Z",
     "iopub.status.idle": "2022-06-03T12:53:49.204925Z",
     "shell.execute_reply": "2022-06-03T12:53:49.204169Z",
     "shell.execute_reply.started": "2022-06-03T12:53:49.193307Z"
    }
   },
   "outputs": [],
   "source": [
    "def build_final_model(hp):\n",
    "    inputs = keras.Input(shape=(180, 180,3))\n",
    "    x = effnet_model(inputs)\n",
    "    x = layers.Flatten()(x)\n",
    "    unit = hp.Int(name=\"unit\", min_value=64, max_value=512, step=64)\n",
    "    x = layers.Dense(unit)(x)\n",
    "    rate = hp.Choice('rate', values=[0.5, 0.6, 0.7])\n",
    "    x = layers.Dropout(rate)(x)\n",
    "    outputs = layers.Dense(120, activation=\"softmax\")(x)\n",
    "    model = keras.Model(inputs=inputs, outputs=outputs)    \n",
    "    hp_learning_rate = hp.Choice('learning_rate', values=[0.0001, 0.00001, 0.00005], ordered=False)\n",
    "    model.compile(optimizer=keras.optimizers.Adam(learning_rate=hp_learning_rate),\n",
    "                loss=keras.losses.SparseCategoricalCrossentropy(from_logits=True),\n",
    "                metrics=['accuracy'])\n",
    "    return model"
   ]
  },
  {
   "cell_type": "code",
   "execution_count": 75,
   "metadata": {
    "execution": {
     "iopub.execute_input": "2022-06-03T12:53:50.662796Z",
     "iopub.status.busy": "2022-06-03T12:53:50.662179Z",
     "iopub.status.idle": "2022-06-03T12:53:52.701829Z",
     "shell.execute_reply": "2022-06-03T12:53:52.700833Z",
     "shell.execute_reply.started": "2022-06-03T12:53:50.662762Z"
    }
   },
   "outputs": [],
   "source": [
    "final_model = build_final_model(best_hps)"
   ]
  },
  {
   "cell_type": "code",
   "execution_count": 59,
   "metadata": {
    "execution": {
     "iopub.execute_input": "2022-06-03T12:44:30.174812Z",
     "iopub.status.busy": "2022-06-03T12:44:30.174456Z",
     "iopub.status.idle": "2022-06-03T12:44:31.072258Z",
     "shell.execute_reply": "2022-06-03T12:44:31.071035Z",
     "shell.execute_reply.started": "2022-06-03T12:44:30.174786Z"
    }
   },
   "outputs": [],
   "source": [
    "%mkdir dataset"
   ]
  },
  {
   "cell_type": "code",
   "execution_count": 68,
   "metadata": {
    "execution": {
     "iopub.execute_input": "2022-06-03T12:49:55.529901Z",
     "iopub.status.busy": "2022-06-03T12:49:55.529487Z",
     "iopub.status.idle": "2022-06-03T12:50:13.453407Z",
     "shell.execute_reply": "2022-06-03T12:50:13.452226Z",
     "shell.execute_reply.started": "2022-06-03T12:49:55.529864Z"
    }
   },
   "outputs": [],
   "source": [
    "cp -R '/kaggle/input/stanford-dogs-dataset/images/Images/' '/root/dataset'"
   ]
  },
  {
   "cell_type": "code",
   "execution_count": 71,
   "metadata": {
    "execution": {
     "iopub.execute_input": "2022-06-03T12:52:07.171570Z",
     "iopub.status.busy": "2022-06-03T12:52:07.170623Z",
     "iopub.status.idle": "2022-06-03T12:52:11.211886Z",
     "shell.execute_reply": "2022-06-03T12:52:11.211068Z",
     "shell.execute_reply.started": "2022-06-03T12:52:07.171524Z"
    }
   },
   "outputs": [
    {
     "name": "stderr",
     "output_type": "stream",
     "text": [
      "Copying files: 20580 files [00:04, 5111.61 files/s]\n"
     ]
    }
   ],
   "source": [
    "splitfolders.ratio('/root/dataset/', output=\"/root/dataset/output\", seed=1337, ratio=(.8, .1,.1))\n"
   ]
  },
  {
   "cell_type": "code",
   "execution_count": 72,
   "metadata": {
    "execution": {
     "iopub.execute_input": "2022-06-03T12:52:13.894380Z",
     "iopub.status.busy": "2022-06-03T12:52:13.893593Z",
     "iopub.status.idle": "2022-06-03T12:52:14.957819Z",
     "shell.execute_reply": "2022-06-03T12:52:14.957041Z",
     "shell.execute_reply.started": "2022-06-03T12:52:13.894343Z"
    }
   },
   "outputs": [
    {
     "name": "stdout",
     "output_type": "stream",
     "text": [
      "Found 16418 files belonging to 120 classes.\n",
      "Found 2009 files belonging to 120 classes.\n",
      "Found 2153 files belonging to 120 classes.\n"
     ]
    }
   ],
   "source": [
    "train_dataset = tf.keras.utils.image_dataset_from_directory (\n",
    "            '/root/dataset/output/train',\n",
    "            image_size=(180, 180),\n",
    "            batch_size=32)\n",
    "val_dataset = tf.keras.utils.image_dataset_from_directory(\n",
    "            '/root/dataset/output/val',\n",
    "            image_size=(180, 180),\n",
    "            batch_size=32)\n",
    "test_dataset = tf.keras.utils.image_dataset_from_directory(\n",
    "            '/root/dataset/output/test',\n",
    "            image_size=(180, 180),\n",
    "            batch_size=32)"
   ]
  },
  {
   "cell_type": "code",
   "execution_count": 78,
   "metadata": {
    "execution": {
     "iopub.execute_input": "2022-06-03T12:55:14.123415Z",
     "iopub.status.busy": "2022-06-03T12:55:14.123060Z",
     "iopub.status.idle": "2022-06-03T12:55:14.129542Z",
     "shell.execute_reply": "2022-06-03T12:55:14.126831Z",
     "shell.execute_reply.started": "2022-06-03T12:55:14.123386Z"
    }
   },
   "outputs": [],
   "source": [
    "callbacks = [\n",
    "keras.callbacks.ModelCheckpoint(\n",
    "                                filepath=\"final_model\",\n",
    "                                save_best_only=True,\n",
    "                                monitor=\"val_loss\")]"
   ]
  },
  {
   "cell_type": "code",
   "execution_count": 83,
   "metadata": {
    "execution": {
     "iopub.execute_input": "2022-06-03T13:13:28.002613Z",
     "iopub.status.busy": "2022-06-03T13:13:28.002264Z",
     "iopub.status.idle": "2022-06-03T13:58:02.513633Z",
     "shell.execute_reply": "2022-06-03T13:58:02.512807Z",
     "shell.execute_reply.started": "2022-06-03T13:13:28.002584Z"
    },
    "jupyter": {
     "outputs_hidden": true
    },
    "scrolled": true
   },
   "outputs": [
    {
     "name": "stdout",
     "output_type": "stream",
     "text": [
      "Epoch 1/20\n"
     ]
    },
    {
     "name": "stderr",
     "output_type": "stream",
     "text": [
      "/opt/conda/lib/python3.7/site-packages/keras/backend.py:4907: UserWarning: \"`sparse_categorical_crossentropy` received `from_logits=True`, but the `output` argument was produced by a sigmoid or softmax activation and thus does not represent logits. Was this intended?\"\n",
      "  '\"`sparse_categorical_crossentropy` received `from_logits=True`, but '\n"
     ]
    },
    {
     "name": "stdout",
     "output_type": "stream",
     "text": [
      "513/514 [============================>.] - ETA: 0s - loss: 2.5976 - accuracy: 0.4097"
     ]
    },
    {
     "name": "stderr",
     "output_type": "stream",
     "text": [
      "Cleanup called...\n"
     ]
    },
    {
     "name": "stdout",
     "output_type": "stream",
     "text": [
      "514/514 [==============================] - 115s 191ms/step - loss: 2.5974 - accuracy: 0.4097 - val_loss: 1.1621 - val_accuracy: 0.6904\n"
     ]
    },
    {
     "name": "stderr",
     "output_type": "stream",
     "text": [
      "/opt/conda/lib/python3.7/site-packages/keras/utils/generic_utils.py:497: CustomMaskWarning: Custom mask layers require a config and must override get_config. When loading, the custom mask layer must be passed to the custom_objects argument.\n",
      "  category=CustomMaskWarning)\n"
     ]
    },
    {
     "name": "stdout",
     "output_type": "stream",
     "text": [
      "Epoch 2/20\n",
      "514/514 [==============================] - ETA: 0s - loss: 1.3396 - accuracy: 0.6493"
     ]
    },
    {
     "name": "stderr",
     "output_type": "stream",
     "text": [
      "Cleanup called...\n"
     ]
    },
    {
     "name": "stdout",
     "output_type": "stream",
     "text": [
      "514/514 [==============================] - 94s 183ms/step - loss: 1.3396 - accuracy: 0.6493 - val_loss: 1.0498 - val_accuracy: 0.7143\n"
     ]
    },
    {
     "name": "stderr",
     "output_type": "stream",
     "text": [
      "/opt/conda/lib/python3.7/site-packages/keras/utils/generic_utils.py:497: CustomMaskWarning: Custom mask layers require a config and must override get_config. When loading, the custom mask layer must be passed to the custom_objects argument.\n",
      "  category=CustomMaskWarning)\n"
     ]
    },
    {
     "name": "stdout",
     "output_type": "stream",
     "text": [
      "Epoch 3/20\n",
      "514/514 [==============================] - ETA: 0s - loss: 1.0773 - accuracy: 0.7136"
     ]
    },
    {
     "name": "stderr",
     "output_type": "stream",
     "text": [
      "Cleanup called...\n"
     ]
    },
    {
     "name": "stdout",
     "output_type": "stream",
     "text": [
      "514/514 [==============================] - 95s 184ms/step - loss: 1.0773 - accuracy: 0.7136 - val_loss: 1.0020 - val_accuracy: 0.7208\n"
     ]
    },
    {
     "name": "stderr",
     "output_type": "stream",
     "text": [
      "/opt/conda/lib/python3.7/site-packages/keras/utils/generic_utils.py:497: CustomMaskWarning: Custom mask layers require a config and must override get_config. When loading, the custom mask layer must be passed to the custom_objects argument.\n",
      "  category=CustomMaskWarning)\n"
     ]
    },
    {
     "name": "stdout",
     "output_type": "stream",
     "text": [
      "Epoch 4/20\n",
      "513/514 [============================>.] - ETA: 0s - loss: 0.8937 - accuracy: 0.7569"
     ]
    },
    {
     "name": "stderr",
     "output_type": "stream",
     "text": [
      "Cleanup called...\n"
     ]
    },
    {
     "name": "stdout",
     "output_type": "stream",
     "text": [
      "514/514 [==============================] - 95s 184ms/step - loss: 0.8937 - accuracy: 0.7569 - val_loss: 1.0174 - val_accuracy: 0.7198\n",
      "Epoch 5/20\n",
      "513/514 [============================>.] - ETA: 0s - loss: 0.7590 - accuracy: 0.7852"
     ]
    },
    {
     "name": "stderr",
     "output_type": "stream",
     "text": [
      "Cleanup called...\n"
     ]
    },
    {
     "name": "stdout",
     "output_type": "stream",
     "text": [
      "514/514 [==============================] - 94s 183ms/step - loss: 0.7589 - accuracy: 0.7852 - val_loss: 1.0022 - val_accuracy: 0.7242\n",
      "Epoch 6/20\n",
      "513/514 [============================>.] - ETA: 0s - loss: 0.6511 - accuracy: 0.8191"
     ]
    },
    {
     "name": "stderr",
     "output_type": "stream",
     "text": [
      "Cleanup called...\n"
     ]
    },
    {
     "name": "stdout",
     "output_type": "stream",
     "text": [
      "514/514 [==============================] - 94s 183ms/step - loss: 0.6511 - accuracy: 0.8191 - val_loss: 1.0068 - val_accuracy: 0.7203\n",
      "Epoch 7/20\n",
      "513/514 [============================>.] - ETA: 0s - loss: 0.5563 - accuracy: 0.8419"
     ]
    },
    {
     "name": "stderr",
     "output_type": "stream",
     "text": [
      "Cleanup called...\n"
     ]
    },
    {
     "name": "stdout",
     "output_type": "stream",
     "text": [
      "514/514 [==============================] - 94s 183ms/step - loss: 0.5562 - accuracy: 0.8419 - val_loss: 0.9909 - val_accuracy: 0.7307\n"
     ]
    },
    {
     "name": "stderr",
     "output_type": "stream",
     "text": [
      "/opt/conda/lib/python3.7/site-packages/keras/utils/generic_utils.py:497: CustomMaskWarning: Custom mask layers require a config and must override get_config. When loading, the custom mask layer must be passed to the custom_objects argument.\n",
      "  category=CustomMaskWarning)\n"
     ]
    },
    {
     "name": "stdout",
     "output_type": "stream",
     "text": [
      "Epoch 8/20\n",
      "513/514 [============================>.] - ETA: 0s - loss: 0.4831 - accuracy: 0.8609"
     ]
    },
    {
     "name": "stderr",
     "output_type": "stream",
     "text": [
      "Cleanup called...\n"
     ]
    },
    {
     "name": "stdout",
     "output_type": "stream",
     "text": [
      "514/514 [==============================] - 94s 183ms/step - loss: 0.4831 - accuracy: 0.8609 - val_loss: 1.0084 - val_accuracy: 0.7262\n",
      "Epoch 9/20\n",
      "513/514 [============================>.] - ETA: 0s - loss: 0.4106 - accuracy: 0.8808"
     ]
    },
    {
     "name": "stderr",
     "output_type": "stream",
     "text": [
      "Cleanup called...\n"
     ]
    },
    {
     "name": "stdout",
     "output_type": "stream",
     "text": [
      "514/514 [==============================] - 94s 182ms/step - loss: 0.4105 - accuracy: 0.8809 - val_loss: 1.0043 - val_accuracy: 0.7277\n",
      "Epoch 10/20\n",
      "513/514 [============================>.] - ETA: 0s - loss: 0.3630 - accuracy: 0.8965"
     ]
    },
    {
     "name": "stderr",
     "output_type": "stream",
     "text": [
      "Cleanup called...\n"
     ]
    },
    {
     "name": "stdout",
     "output_type": "stream",
     "text": [
      "514/514 [==============================] - 94s 183ms/step - loss: 0.3629 - accuracy: 0.8965 - val_loss: 1.0346 - val_accuracy: 0.7262\n",
      "Epoch 11/20\n",
      "513/514 [============================>.] - ETA: 0s - loss: 0.3325 - accuracy: 0.9038"
     ]
    },
    {
     "name": "stderr",
     "output_type": "stream",
     "text": [
      "Cleanup called...\n"
     ]
    },
    {
     "name": "stdout",
     "output_type": "stream",
     "text": [
      "514/514 [==============================] - 95s 184ms/step - loss: 0.3325 - accuracy: 0.9038 - val_loss: 1.0317 - val_accuracy: 0.7287\n",
      "Epoch 12/20\n",
      "513/514 [============================>.] - ETA: 0s - loss: 0.2891 - accuracy: 0.9184"
     ]
    },
    {
     "name": "stderr",
     "output_type": "stream",
     "text": [
      "Cleanup called...\n"
     ]
    },
    {
     "name": "stdout",
     "output_type": "stream",
     "text": [
      "514/514 [==============================] - 95s 184ms/step - loss: 0.2890 - accuracy: 0.9184 - val_loss: 1.0244 - val_accuracy: 0.7362\n",
      "Epoch 13/20\n",
      "513/514 [============================>.] - ETA: 0s - loss: 0.2537 - accuracy: 0.9293"
     ]
    },
    {
     "name": "stderr",
     "output_type": "stream",
     "text": [
      "Cleanup called...\n"
     ]
    },
    {
     "name": "stdout",
     "output_type": "stream",
     "text": [
      "514/514 [==============================] - 95s 183ms/step - loss: 0.2537 - accuracy: 0.9293 - val_loss: 1.0385 - val_accuracy: 0.7327\n",
      "Epoch 14/20\n",
      "513/514 [============================>.] - ETA: 0s - loss: 0.2391 - accuracy: 0.9334"
     ]
    },
    {
     "name": "stderr",
     "output_type": "stream",
     "text": [
      "Cleanup called...\n"
     ]
    },
    {
     "name": "stdout",
     "output_type": "stream",
     "text": [
      "514/514 [==============================] - 95s 184ms/step - loss: 0.2392 - accuracy: 0.9334 - val_loss: 1.0553 - val_accuracy: 0.7362\n",
      "Epoch 15/20\n",
      "513/514 [============================>.] - ETA: 0s - loss: 0.2116 - accuracy: 0.9406"
     ]
    },
    {
     "name": "stderr",
     "output_type": "stream",
     "text": [
      "Cleanup called...\n"
     ]
    },
    {
     "name": "stdout",
     "output_type": "stream",
     "text": [
      "514/514 [==============================] - 94s 183ms/step - loss: 0.2116 - accuracy: 0.9406 - val_loss: 1.0433 - val_accuracy: 0.7382\n",
      "Epoch 16/20\n",
      "513/514 [============================>.] - ETA: 0s - loss: 0.1864 - accuracy: 0.9482"
     ]
    },
    {
     "name": "stderr",
     "output_type": "stream",
     "text": [
      "Cleanup called...\n"
     ]
    },
    {
     "name": "stdout",
     "output_type": "stream",
     "text": [
      "514/514 [==============================] - 94s 182ms/step - loss: 0.1865 - accuracy: 0.9481 - val_loss: 1.0571 - val_accuracy: 0.7337\n",
      "Epoch 17/20\n",
      "513/514 [============================>.] - ETA: 0s - loss: 0.1726 - accuracy: 0.9539"
     ]
    },
    {
     "name": "stderr",
     "output_type": "stream",
     "text": [
      "Cleanup called...\n"
     ]
    },
    {
     "name": "stdout",
     "output_type": "stream",
     "text": [
      "514/514 [==============================] - 94s 182ms/step - loss: 0.1726 - accuracy: 0.9540 - val_loss: 1.0649 - val_accuracy: 0.7322\n",
      "Epoch 18/20\n",
      "514/514 [==============================] - ETA: 0s - loss: 0.1589 - accuracy: 0.9555"
     ]
    },
    {
     "name": "stderr",
     "output_type": "stream",
     "text": [
      "Cleanup called...\n"
     ]
    },
    {
     "name": "stdout",
     "output_type": "stream",
     "text": [
      "514/514 [==============================] - 94s 183ms/step - loss: 0.1589 - accuracy: 0.9555 - val_loss: 1.0857 - val_accuracy: 0.7252\n",
      "Epoch 19/20\n",
      "513/514 [============================>.] - ETA: 0s - loss: 0.1472 - accuracy: 0.9590"
     ]
    },
    {
     "name": "stderr",
     "output_type": "stream",
     "text": [
      "Cleanup called...\n"
     ]
    },
    {
     "name": "stdout",
     "output_type": "stream",
     "text": [
      "514/514 [==============================] - 94s 183ms/step - loss: 0.1472 - accuracy: 0.9590 - val_loss: 1.0984 - val_accuracy: 0.7347\n",
      "Epoch 20/20\n",
      "513/514 [============================>.] - ETA: 0s - loss: 0.1366 - accuracy: 0.9623"
     ]
    },
    {
     "name": "stderr",
     "output_type": "stream",
     "text": [
      "Cleanup called...\n"
     ]
    },
    {
     "name": "stdout",
     "output_type": "stream",
     "text": [
      "514/514 [==============================] - 94s 182ms/step - loss: 0.1366 - accuracy: 0.9623 - val_loss: 1.0685 - val_accuracy: 0.7317\n"
     ]
    }
   ],
   "source": [
    "history = final_model.fit(train_dataset, epochs=20,validation_data=val_dataset, batch_size=32, callbacks=callbacks)"
   ]
  },
  {
   "cell_type": "markdown",
   "metadata": {},
   "source": [
    "On voit qu'il a en moyenne une accuracy d'un peu plus de 0.70, ce qui en fait un modèle plus que fiable de détection de race de chien "
   ]
  }
 ],
 "metadata": {
  "kernelspec": {
   "display_name": "Python 3",
   "language": "python",
   "name": "python3"
  },
  "language_info": {
   "codemirror_mode": {
    "name": "ipython",
    "version": 3
   },
   "file_extension": ".py",
   "mimetype": "text/x-python",
   "name": "python",
   "nbconvert_exporter": "python",
   "pygments_lexer": "ipython3",
   "version": "3.8.10"
  }
 },
 "nbformat": 4,
 "nbformat_minor": 4
}
